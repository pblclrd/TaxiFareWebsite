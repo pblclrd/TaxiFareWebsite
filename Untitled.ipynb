{
 "cells": [
  {
   "cell_type": "code",
   "execution_count": 1,
   "id": "13196444",
   "metadata": {
    "ExecuteTime": {
     "end_time": "2021-05-21T11:03:16.862730Z",
     "start_time": "2021-05-21T11:03:16.740827Z"
    }
   },
   "outputs": [
    {
     "name": "stdout",
     "output_type": "stream",
     "text": [
      "/Users/blacl/code/pblclrd/TaxiFareWebsite\r\n"
     ]
    }
   ],
   "source": [
    "!pwd"
   ]
  },
  {
   "cell_type": "code",
   "execution_count": 2,
   "id": "d4525467",
   "metadata": {
    "ExecuteTime": {
     "end_time": "2021-05-21T11:04:08.279389Z",
     "start_time": "2021-05-21T11:04:08.276534Z"
    }
   },
   "outputs": [],
   "source": [
    "pickup_datetime = '2021-05-21 11:13:00'\n",
    "pickup_longitude = \"1\"\n",
    "pickup_latitude = \"1\"\n",
    "dropoff_longitude = \"2\"\n",
    "dropoff_latitude = \"2\"\n",
    "passenger_count = \"1\""
   ]
  },
  {
   "cell_type": "code",
   "execution_count": 10,
   "id": "a328e737",
   "metadata": {
    "ExecuteTime": {
     "end_time": "2021-05-21T12:44:02.314690Z",
     "start_time": "2021-05-21T12:44:02.312131Z"
    }
   },
   "outputs": [],
   "source": [
    "taxiFareApiUrl = 'https://taxifare.lewagon.ai/predict'"
   ]
  },
  {
   "cell_type": "code",
   "execution_count": 15,
   "id": "2fb32070",
   "metadata": {
    "ExecuteTime": {
     "end_time": "2021-05-21T12:46:31.745278Z",
     "start_time": "2021-05-21T12:46:31.741860Z"
    }
   },
   "outputs": [],
   "source": [
    "params = {\n",
    "    \"pickup_datetime\": pickup_datetime,\n",
    "        \"pickup_longitude\": float(pickup_longitude),\n",
    "            \"pickup_latitude\": float(pickup_latitude),\n",
    "            \"dropoff_longitude\": float(dropoff_longitude),\n",
    "            \"dropoff_latitude\": float(dropoff_latitude),\n",
    "            \"passenger_count\": int(passenger_count)\n",
    "}"
   ]
  },
  {
   "cell_type": "code",
   "execution_count": 16,
   "id": "dcd30d6f",
   "metadata": {
    "ExecuteTime": {
     "end_time": "2021-05-21T12:46:32.795550Z",
     "start_time": "2021-05-21T12:46:32.791402Z"
    }
   },
   "outputs": [
    {
     "data": {
      "text/plain": [
       "{'pickup_datetime': '2021-05-21 11:13:00',\n",
       " 'pickup_longitude': 1.0,\n",
       " 'pickup_latitude': 1.0,\n",
       " 'dropoff_longitude': 2.0,\n",
       " 'dropoff_latitude': 2.0,\n",
       " 'passenger_count': 1}"
      ]
     },
     "execution_count": 16,
     "metadata": {},
     "output_type": "execute_result"
    }
   ],
   "source": [
    "params"
   ]
  },
  {
   "cell_type": "code",
   "execution_count": 17,
   "id": "39080582",
   "metadata": {
    "ExecuteTime": {
     "end_time": "2021-05-21T12:46:35.135909Z",
     "start_time": "2021-05-21T12:46:35.046386Z"
    }
   },
   "outputs": [
    {
     "data": {
      "text/plain": [
       "{'prediction': 366.9889223330059}"
      ]
     },
     "execution_count": 17,
     "metadata": {},
     "output_type": "execute_result"
    }
   ],
   "source": [
    "import requests\n",
    "r = requests.get(taxiFareApiUrl, params=params).json()\n",
    "r"
   ]
  },
  {
   "cell_type": "code",
   "execution_count": 18,
   "id": "32262508",
   "metadata": {
    "ExecuteTime": {
     "end_time": "2021-05-21T12:46:35.853946Z",
     "start_time": "2021-05-21T12:46:35.850160Z"
    }
   },
   "outputs": [
    {
     "data": {
      "text/plain": [
       "366.9889223330059"
      ]
     },
     "execution_count": 18,
     "metadata": {},
     "output_type": "execute_result"
    }
   ],
   "source": [
    "response = r[\"prediction\"]\n",
    "response"
   ]
  },
  {
   "cell_type": "code",
   "execution_count": null,
   "id": "080261e3",
   "metadata": {},
   "outputs": [],
   "source": []
  }
 ],
 "metadata": {
  "kernelspec": {
   "display_name": "Python 3",
   "language": "python",
   "name": "python3"
  },
  "language_info": {
   "codemirror_mode": {
    "name": "ipython",
    "version": 3
   },
   "file_extension": ".py",
   "mimetype": "text/x-python",
   "name": "python",
   "nbconvert_exporter": "python",
   "pygments_lexer": "ipython3",
   "version": "3.8.6"
  },
  "toc": {
   "base_numbering": 1,
   "nav_menu": {},
   "number_sections": true,
   "sideBar": true,
   "skip_h1_title": false,
   "title_cell": "Table of Contents",
   "title_sidebar": "Contents",
   "toc_cell": false,
   "toc_position": {},
   "toc_section_display": true,
   "toc_window_display": false
  },
  "varInspector": {
   "cols": {
    "lenName": 16,
    "lenType": 16,
    "lenVar": 40
   },
   "kernels_config": {
    "python": {
     "delete_cmd_postfix": "",
     "delete_cmd_prefix": "del ",
     "library": "var_list.py",
     "varRefreshCmd": "print(var_dic_list())"
    },
    "r": {
     "delete_cmd_postfix": ") ",
     "delete_cmd_prefix": "rm(",
     "library": "var_list.r",
     "varRefreshCmd": "cat(var_dic_list()) "
    }
   },
   "types_to_exclude": [
    "module",
    "function",
    "builtin_function_or_method",
    "instance",
    "_Feature"
   ],
   "window_display": false
  }
 },
 "nbformat": 4,
 "nbformat_minor": 5
}
